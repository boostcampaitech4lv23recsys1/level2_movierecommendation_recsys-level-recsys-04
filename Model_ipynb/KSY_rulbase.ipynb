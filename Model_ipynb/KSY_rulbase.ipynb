{
 "cells": [
  {
   "cell_type": "code",
   "execution_count": 1,
   "metadata": {},
   "outputs": [],
   "source": [
    "import numpy as np\n",
    "import pandas as pd\n",
    "\n",
    "import os\n",
    "from tqdm import tqdm\n",
    "\n",
    "import warnings\n",
    "warnings.filterwarnings('ignore')\n",
    "\n",
    "path = '/opt/ml/input/data/train/'\n",
    "\n",
    "train = pd.read_csv(path + 'train_ratings.csv')\n",
    "\n",
    "year_data = pd.read_csv(os.path.join(path, 'years.tsv'), sep='\\t')\n",
    "writer_data = pd.read_csv(os.path.join(path, 'writers.tsv'), sep='\\t')\n",
    "title_data = pd.read_csv(os.path.join(path, 'titles.tsv'), sep='\\t')\n",
    "genre_data = pd.read_csv(os.path.join(path, 'genres.tsv'), sep='\\t')\n",
    "director_data = pd.read_csv(os.path.join(path, 'directors.tsv'), sep='\\t')"
   ]
  },
  {
   "cell_type": "code",
   "execution_count": 49,
   "metadata": {},
   "outputs": [
    {
     "name": "stderr",
     "output_type": "stream",
     "text": [
      "100%|██████████| 31360/31360 [25:16<00:00, 20.69it/s]\n"
     ]
    }
   ],
   "source": [
    "## 가장 인기가 많은 영화 TOP10 추천. BUT 유저가 이미 본 영화는 배제함.\n",
    "\n",
    "# 새로운 데이터 프레임 만들기.\n",
    "# [user, item]으로 구성되어있는 데이터 프레임.\n",
    "# 유저수가 31360 이고 유저마다 10개 아이템을 추천하므로 test은 313600 행을 가짐.\n",
    "test = pd.DataFrame(columns=['user','item'])\n",
    "\n",
    "# 유저수와 아이템 수 기록.\n",
    "num_users = train['user'].nunique()\n",
    "num_items = train['item'].nunique()\n",
    "\n",
    "# user_id 모아둔 리스트 만들기.\n",
    "user_lst = list(train['user'].unique())\n",
    "\n",
    "# 아이템 id 인기가 많은(시청 기록이 많은) 순으로 기록.\n",
    "# [2571, 2959, 296 ...]\n",
    "# 2571 영화가 가장 인기가 많은 영화.\n",
    "top_items = list(train['item'].value_counts().index)\n",
    "\n",
    "# 유저마다 시청한 영화 기록 리스트 나오는 판다스(시리즈).\n",
    "# user_item_lst[user_id] : user_id를 가진 유저가 본 영화 리스트\n",
    "user_item_lst = train.groupby(\"user\")[\"item\"].apply(list)\n",
    "\n",
    "# 25분 넘게 걸림..\n",
    "# 유저에게 가장 인기 있는 상품 추천\n",
    "# but(가장 핵심.) 유저 기준 이미 본 영화는 추천에서 배제.\n",
    "# user_id마다 반복문 돌기.\n",
    "for user in tqdm(user_lst):\n",
    "    cnt = 0 # 반복문마다 새는 변수.\n",
    "    # 영화 시청 기록 숫자만큼 반복문 돌기(최대한으로 잡아놓은 것 뿐 이만큼 안돌음)\n",
    "    # idx : 0, 1, 2, ...\n",
    "    for idx in range(num_items):\n",
    "        # 이번 영화가(top_items[idx], 영화 인기 순으로 나옴)\n",
    "        # 해당 유저가 본 영화(user_item_lst[user])가 아닌 영화라면.\n",
    "        if top_items[idx] not in user_item_lst[user]:\n",
    "            cnt += 1 # 해당 유저에게 추천할 영화가 하나 늘었다.\n",
    "            # 해당 영화(top_items[idx])를 해당 유저에게 추천한다. 즉 데이터 프레임에 user, item을 추가한다.\n",
    "            test = test.append(pd.DataFrame([[user, top_items[idx]]], columns=['user','item']))\n",
    "            if cnt == 10: # 한 사람당 추천할 영화는 10개 이므로.\n",
    "                break"
   ]
  },
  {
   "cell_type": "code",
   "execution_count": 65,
   "metadata": {},
   "outputs": [],
   "source": [
    "# 제출하기 위한 코드.\n",
    "test.reset_index(drop = True, inplace = True)\n",
    "test.to_csv(\"../output/ksy_most_popular.csv\", index=False)"
   ]
  }
 ],
 "metadata": {
  "kernelspec": {
   "display_name": "ksy",
   "language": "python",
   "name": "ksy"
  },
  "language_info": {
   "codemirror_mode": {
    "name": "ipython",
    "version": 3
   },
   "file_extension": ".py",
   "mimetype": "text/x-python",
   "name": "python",
   "nbconvert_exporter": "python",
   "pygments_lexer": "ipython3",
   "version": "3.10.8"
  }
 },
 "nbformat": 4,
 "nbformat_minor": 2
}
