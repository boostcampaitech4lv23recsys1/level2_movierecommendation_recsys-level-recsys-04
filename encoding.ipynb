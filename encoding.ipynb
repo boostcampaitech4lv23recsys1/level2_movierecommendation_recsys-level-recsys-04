{
 "cells": [
  {
   "attachments": {},
   "cell_type": "markdown",
   "metadata": {},
   "source": [
    "## 데이터 불러오기"
   ]
  },
  {
   "cell_type": "code",
   "execution_count": 2,
   "metadata": {
    "vscode": {
     "languageId": "python"
    }
   },
   "outputs": [],
   "source": [
    "import numpy as np\n",
    "import pandas as pd\n",
    "\n",
    "import os\n",
    "\n",
    "import warnings\n",
    "warnings.filterwarnings('ignore')\n",
    "\n",
    "path = '/opt/ml/input/data/train/'\n",
    "\n",
    "train = pd.read_csv(path + 'train_ratings.csv')\n",
    "\n",
    "year_data = pd.read_csv(os.path.join(path, 'years.tsv'), sep='\\t')\n",
    "writer_data = pd.read_csv(os.path.join(path, 'writers.tsv'), sep='\\t')\n",
    "title_data = pd.read_csv(os.path.join(path, 'titles.tsv'), sep='\\t')\n",
    "genre_data = pd.read_csv(os.path.join(path, 'genres.tsv'), sep='\\t')\n",
    "director_data = pd.read_csv(os.path.join(path, 'directors.tsv'), sep='\\t')"
   ]
  },
  {
   "attachments": {},
   "cell_type": "markdown",
   "metadata": {},
   "source": [
    "## 베이스라인 시작 전 해야하는 train_new 파일 및 item2attributes 생성 코드"
   ]
  },
  {
   "cell_type": "code",
   "execution_count": 3,
   "metadata": {
    "vscode": {
     "languageId": "python"
    }
   },
   "outputs": [],
   "source": [
    "# 모델 시작 전 인코딩하는 과정입니다.\n",
    "user2idx = {user:idx for idx, user in enumerate(train['user'].unique())}\n",
    "idx2user = {idx:user for idx, user in enumerate(train['user'].unique())}\n",
    "\n",
    "## 패딩 때문에 0 비워놓음\n",
    "item2idx = {item:(idx+1) for idx, item in enumerate(train['item'].unique())}\n",
    "idx2item = {(idx+1):item for idx, item in enumerate(train['item'].unique())}\n",
    "\n",
    "genre2idx = {genre:(idx) for idx, genre in enumerate(genre_data['genre'].unique())}\n",
    "idx2genre = {(idx):genre for idx, genre in enumerate(genre_data['genre'].unique())}\n",
    "\n",
    "train_new = train.copy()\n",
    "genre_data_new = genre_data.copy()\n",
    "\n",
    "train_new['user'] = train_new['user'].map(user2idx)\n",
    "train_new['item'] = train_new['item'].map(item2idx)\n",
    "\n",
    "genre_data_new['item'] = genre_data_new['item'].map(item2idx)\n",
    "genre_data_new['genre'] = genre_data_new['genre'].map(genre2idx)\n",
    "train_new.to_csv(os.path.join(path, 'train_new.csv'), index = False)\n",
    "genre_data_new.to_csv(os.path.join(path, 'genre_data_new.csv'), index = False)\n",
    "\n",
    "import json\n",
    "genre_dic = genre_data_new.groupby('item')['genre'].apply(list).to_dict()\n",
    "\n",
    "with open(os.path.join(path, 'item2attributes.json'),'w') as f:\n",
    "    json.dump(genre_dic, f)#, indent=4)"
   ]
  },
  {
   "attachments": {},
   "cell_type": "markdown",
   "metadata": {},
   "source": [
    "## 모델 학습 후 submission 값 디코딩하는 코드"
   ]
  },
  {
   "cell_type": "code",
   "execution_count": 7,
   "metadata": {
    "vscode": {
     "languageId": "python"
    }
   },
   "outputs": [],
   "source": [
    "# 모델 학습 후 디코딩하는 과정입니다.\n",
    "out_path = './output'\n",
    "output = pd.read_csv(os.path.join(out_path, 'submission.csv'))\n",
    "output['user'] = output['user'].map(idx2user)\n",
    "output['item'] = output['item'].map(idx2item)\n",
    "output.to_csv(os.path.join(out_path, 'deco_trainAG_submission.csv'), index = False)"
   ]
  },
  {
   "attachments": {},
   "cell_type": "markdown",
   "metadata": {},
   "source": [
    "## 앙상블 하는 코드"
   ]
  },
  {
   "cell_type": "code",
   "execution_count": 54,
   "metadata": {
    "vscode": {
     "languageId": "python"
    }
   },
   "outputs": [],
   "source": [
    "# 베이스라인 저장된 csv 호출\n",
    "baseline = pd.read_csv(os.path.join(out_path, 'deco_trainAG_submission.csv'))\n",
    "# ease 모델 저장된 csv 호출\n",
    "ease = pd.read_csv(os.path.join(out_path, 'ease.csv'))"
   ]
  },
  {
   "cell_type": "code",
   "execution_count": 55,
   "metadata": {
    "vscode": {
     "languageId": "python"
    }
   },
   "outputs": [],
   "source": [
    "# tem : seq 만들어주기 위한 도구\n",
    "# seq : 랭킹을 매기기 위한 값. 낮을 수록 더 유망한 것.\n",
    "baseline['tem'] = 2\n",
    "ease['tem'] = 2\n",
    "baseline['seq'] = baseline.groupby('user')['tem'].apply(lambda x : x.cumsum())\n",
    "ease['seq'] = ease.groupby('user')['tem'].apply(lambda x : x.cumsum())\n",
    "ease['seq'] = ease['seq'] - 1 # ease를 한 단계 높게 처주기 위해.\n",
    "baseline['seq'] = baseline['seq'] # (+ 2) : 10개 중 baseline 4개만 반영하기 위해 +2, +4 등 조치 취함."
   ]
  },
  {
   "cell_type": "code",
   "execution_count": 56,
   "metadata": {
    "vscode": {
     "languageId": "python"
    }
   },
   "outputs": [],
   "source": [
    "# 베이스라인과 ease 합침.\n",
    "final = pd.concat([baseline, ease])\n",
    "# 베이스라인과 ease에서 모두 추천하는 영화 찾기 위한 코드.\n",
    "# 두 모델에서 모두 추천하는 영화는 0순위로 놓기로 함\n",
    "final['seq'][final.duplicated(['user','item'], False)] = 0 # 0 : 0순위.\n",
    "# 이후 중복 제거\n",
    "final = final.drop_duplicates(['user','item'])\n",
    "# 유저 단위로, seq가 낮을 수록 더 높은 순위에 추천이기 때문에 이렇게 함.\n",
    "final = final.sort_values(['user','seq']).reset_index(drop = True)\n",
    "# 상위 10개만 추림\n",
    "final = final.groupby('user').apply(lambda x : x[:10]).reset_index(drop = True)\n",
    "final[['user','item']].to_csv(os.path.join(out_path, 'ensemble2.csv'), index = False)"
   ]
  }
 ],
 "metadata": {
  "kernelspec": {
   "display_name": "ksy",
   "language": "python",
   "name": "ksy"
  },
  "orig_nbformat": 4
 },
 "nbformat": 4,
 "nbformat_minor": 2
}
