{
 "cells": [
  {
   "cell_type": "code",
   "execution_count": 2,
   "metadata": {},
   "outputs": [],
   "source": [
    "import numpy as np\n",
    "import pandas as pd\n",
    "\n",
    "import os\n",
    "\n",
    "import warnings\n",
    "warnings.filterwarnings('ignore')\n",
    "\n",
    "path = '/opt/ml/input/data/train/'\n",
    "\n",
    "train = pd.read_csv(path + 'train_ratings.csv')\n",
    "\n",
    "year_data = pd.read_csv(os.path.join(path, 'years.tsv'), sep='\\t')\n",
    "writer_data = pd.read_csv(os.path.join(path, 'writers.tsv'), sep='\\t')\n",
    "title_data = pd.read_csv(os.path.join(path, 'titles.tsv'), sep='\\t')\n",
    "genre_data = pd.read_csv(os.path.join(path, 'genres.tsv'), sep='\\t')\n",
    "director_data = pd.read_csv(os.path.join(path, 'directors.tsv'), sep='\\t')"
   ]
  },
  {
   "cell_type": "code",
   "execution_count": 3,
   "metadata": {},
   "outputs": [],
   "source": [
    "# 모델 시작 전 인코딩하는 과정입니다.\n",
    "user2idx = {user:idx for idx, user in enumerate(train['user'].unique())}\n",
    "idx2user = {idx:user for idx, user in enumerate(train['user'].unique())}\n",
    "\n",
    "## 패딩 때문에 0 비워놓음\n",
    "item2idx = {item:(idx+1) for idx, item in enumerate(train['item'].unique())}\n",
    "idx2item = {(idx+1):item for idx, item in enumerate(train['item'].unique())}\n",
    "\n",
    "genre2idx = {genre:(idx+1) for idx, genre in enumerate(genre_data['genre'].unique())}\n",
    "idx2genre = {(idx+1):genre for idx, genre in enumerate(genre_data['genre'].unique())}\n",
    "\n",
    "train_new = train.copy()\n",
    "genre_data_new = genre_data.copy()\n",
    "\n",
    "train_new['user'] = train_new['user'].map(user2idx)\n",
    "train_new['item'] = train_new['item'].map(item2idx)\n",
    "\n",
    "genre_data_new['item'] = genre_data_new['item'].map(item2idx)\n",
    "genre_data_new['genre'] = genre_data_new['genre'].map(genre2idx)\n",
    "train_new.to_csv(os.path.join(path, 'train_new.csv'), index = False)\n",
    "genre_data_new.to_csv(os.path.join(path, 'genre_data_new.csv'), index = False)"
   ]
  },
  {
   "cell_type": "code",
   "execution_count": null,
   "metadata": {},
   "outputs": [],
   "source": [
    "# 모델 학습 후 디코딩하는 과정입니다.\n",
    "out_path = './output'\n",
    "output = pd.read_csv(os.path.join(out_path, 'submission.csv'))\n",
    "output['user'] = output['user'].map(idx2user)\n",
    "output['item'] = output['item'].map(idx2item)\n",
    "output.to_csv(os.path.join(out_path, 'deco_submission.csv'), index = False)"
   ]
  }
 ],
 "metadata": {
  "kernelspec": {
   "display_name": "ksy",
   "language": "python",
   "name": "ksy"
  },
  "language_info": {
   "codemirror_mode": {
    "name": "ipython",
    "version": 3
   },
   "file_extension": ".py",
   "mimetype": "text/x-python",
   "name": "python",
   "nbconvert_exporter": "python",
   "pygments_lexer": "ipython3",
   "version": "3.10.8"
  },
  "orig_nbformat": 4
 },
 "nbformat": 4,
 "nbformat_minor": 2
}
