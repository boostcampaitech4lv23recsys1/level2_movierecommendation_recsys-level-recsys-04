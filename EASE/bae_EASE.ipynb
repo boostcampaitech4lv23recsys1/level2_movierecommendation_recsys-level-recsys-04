{
 "cells": [
  {
   "cell_type": "code",
   "execution_count": 1,
   "metadata": {},
   "outputs": [
    {
     "name": "stderr",
     "output_type": "stream",
     "text": [
      "/opt/conda/lib/python3.8/site-packages/scipy/__init__.py:146: UserWarning: A NumPy version >=1.16.5 and <1.23.0 is required for this version of SciPy (detected version 1.24.0\n",
      "  warnings.warn(f\"A NumPy version >={np_minversion} and <{np_maxversion}\"\n"
     ]
    }
   ],
   "source": [
    "import numpy as np\n",
    "import pandas as pd\n",
    "import torch\n",
    "from scipy.sparse import csr_matrix\n",
    "from sklearn.preprocessing import LabelEncoder\n",
    "from multiprocessing import Pool, cpu_count\n",
    "import random"
   ]
  },
  {
   "cell_type": "code",
   "execution_count": 2,
   "metadata": {},
   "outputs": [],
   "source": [
    "path = '/opt/ml/input/data/train/'\n",
    "\n",
    "train = pd.read_csv(path + 'train_ratings.csv')\n"
   ]
  },
  {
   "cell_type": "code",
   "execution_count": 3,
   "metadata": {},
   "outputs": [],
   "source": [
    "train['valid'] = False"
   ]
  },
  {
   "cell_type": "code",
   "execution_count": 4,
   "metadata": {},
   "outputs": [
    {
     "data": {
      "text/html": [
       "<div>\n",
       "<style scoped>\n",
       "    .dataframe tbody tr th:only-of-type {\n",
       "        vertical-align: middle;\n",
       "    }\n",
       "\n",
       "    .dataframe tbody tr th {\n",
       "        vertical-align: top;\n",
       "    }\n",
       "\n",
       "    .dataframe thead th {\n",
       "        text-align: right;\n",
       "    }\n",
       "</style>\n",
       "<table border=\"1\" class=\"dataframe\">\n",
       "  <thead>\n",
       "    <tr style=\"text-align: right;\">\n",
       "      <th></th>\n",
       "      <th>user</th>\n",
       "      <th>item</th>\n",
       "      <th>time</th>\n",
       "      <th>valid</th>\n",
       "    </tr>\n",
       "  </thead>\n",
       "  <tbody>\n",
       "    <tr>\n",
       "      <th>0</th>\n",
       "      <td>11</td>\n",
       "      <td>4643</td>\n",
       "      <td>1230782529</td>\n",
       "      <td>False</td>\n",
       "    </tr>\n",
       "    <tr>\n",
       "      <th>1</th>\n",
       "      <td>11</td>\n",
       "      <td>170</td>\n",
       "      <td>1230782534</td>\n",
       "      <td>False</td>\n",
       "    </tr>\n",
       "    <tr>\n",
       "      <th>2</th>\n",
       "      <td>11</td>\n",
       "      <td>531</td>\n",
       "      <td>1230782539</td>\n",
       "      <td>False</td>\n",
       "    </tr>\n",
       "    <tr>\n",
       "      <th>3</th>\n",
       "      <td>11</td>\n",
       "      <td>616</td>\n",
       "      <td>1230782542</td>\n",
       "      <td>False</td>\n",
       "    </tr>\n",
       "    <tr>\n",
       "      <th>4</th>\n",
       "      <td>11</td>\n",
       "      <td>2140</td>\n",
       "      <td>1230782563</td>\n",
       "      <td>False</td>\n",
       "    </tr>\n",
       "    <tr>\n",
       "      <th>...</th>\n",
       "      <td>...</td>\n",
       "      <td>...</td>\n",
       "      <td>...</td>\n",
       "      <td>...</td>\n",
       "    </tr>\n",
       "    <tr>\n",
       "      <th>5154466</th>\n",
       "      <td>138493</td>\n",
       "      <td>44022</td>\n",
       "      <td>1260209449</td>\n",
       "      <td>False</td>\n",
       "    </tr>\n",
       "    <tr>\n",
       "      <th>5154467</th>\n",
       "      <td>138493</td>\n",
       "      <td>4958</td>\n",
       "      <td>1260209482</td>\n",
       "      <td>False</td>\n",
       "    </tr>\n",
       "    <tr>\n",
       "      <th>5154468</th>\n",
       "      <td>138493</td>\n",
       "      <td>68319</td>\n",
       "      <td>1260209720</td>\n",
       "      <td>False</td>\n",
       "    </tr>\n",
       "    <tr>\n",
       "      <th>5154469</th>\n",
       "      <td>138493</td>\n",
       "      <td>40819</td>\n",
       "      <td>1260209726</td>\n",
       "      <td>False</td>\n",
       "    </tr>\n",
       "    <tr>\n",
       "      <th>5154470</th>\n",
       "      <td>138493</td>\n",
       "      <td>27311</td>\n",
       "      <td>1260209807</td>\n",
       "      <td>False</td>\n",
       "    </tr>\n",
       "  </tbody>\n",
       "</table>\n",
       "<p>5154471 rows × 4 columns</p>\n",
       "</div>"
      ],
      "text/plain": [
       "           user   item        time  valid\n",
       "0            11   4643  1230782529  False\n",
       "1            11    170  1230782534  False\n",
       "2            11    531  1230782539  False\n",
       "3            11    616  1230782542  False\n",
       "4            11   2140  1230782563  False\n",
       "...         ...    ...         ...    ...\n",
       "5154466  138493  44022  1260209449  False\n",
       "5154467  138493   4958  1260209482  False\n",
       "5154468  138493  68319  1260209720  False\n",
       "5154469  138493  40819  1260209726  False\n",
       "5154470  138493  27311  1260209807  False\n",
       "\n",
       "[5154471 rows x 4 columns]"
      ]
     },
     "execution_count": 4,
     "metadata": {},
     "output_type": "execute_result"
    }
   ],
   "source": [
    "train"
   ]
  },
  {
   "cell_type": "code",
   "execution_count": 5,
   "metadata": {},
   "outputs": [],
   "source": [
    "tmp = train.groupby('user').sample(3)"
   ]
  },
  {
   "cell_type": "code",
   "execution_count": 6,
   "metadata": {},
   "outputs": [
    {
     "name": "stderr",
     "output_type": "stream",
     "text": [
      "/tmp/ipykernel_97537/3816781900.py:1: SettingWithCopyWarning: \n",
      "A value is trying to be set on a copy of a slice from a DataFrame\n",
      "\n",
      "See the caveats in the documentation: https://pandas.pydata.org/pandas-docs/stable/user_guide/indexing.html#returning-a-view-versus-a-copy\n",
      "  train['valid'][tmp.index] = True\n"
     ]
    }
   ],
   "source": [
    "train['valid'][tmp.index] = True\n"
   ]
  },
  {
   "cell_type": "code",
   "execution_count": 7,
   "metadata": {},
   "outputs": [],
   "source": [
    "valid = train[train['valid'] == True]\n",
    "train = train[train['valid'] == False]\n",
    "valid = valid.drop(['time','valid'],axis = 1)"
   ]
  },
  {
   "cell_type": "code",
   "execution_count": 8,
   "metadata": {},
   "outputs": [],
   "source": [
    "class EASE:\n",
    "    def __init__(self):\n",
    "        self.user_enc = LabelEncoder()\n",
    "        self.item_enc = LabelEncoder()\n",
    "\n",
    "    def _get_users_and_items(self, df):\n",
    "        users = self.user_enc.fit_transform(df.loc[:, 'user'])\n",
    "        items = self.item_enc.fit_transform(df.loc[:, 'item'])\n",
    "        return users, items\n",
    "\n",
    "    def fit(self, df, lambda_: float = 0.5, implicit=True):\n",
    "        \"\"\"\n",
    "        df: pandas.DataFrame with columns user_id, item_id and (rating)\n",
    "        lambda_: l2-regularization term\n",
    "        implicit: if True, ratings are ignored and taken as 1, else normalized ratings are used\n",
    "        \"\"\"\n",
    "        users, items = self._get_users_and_items(df)\n",
    "        values = (\n",
    "            np.ones(df.shape[0])\n",
    "            if implicit\n",
    "            else df['rating'].to_numpy() / df['rating'].max()\n",
    "        )\n",
    "\n",
    "        X = csr_matrix((values, (users, items)))\n",
    "        self.X = X\n",
    "\n",
    "        G = X.T.dot(X).toarray()\n",
    "        diagIndices = np.diag_indices(G.shape[0])\n",
    "        G[diagIndices] += lambda_\n",
    "        P = np.linalg.inv(G)\n",
    "        B = P / (-np.diag(P))\n",
    "        B[diagIndices] = 0\n",
    "\n",
    "        self.B = B\n",
    "        self.pred = X.dot(B)\n",
    "\n",
    "    def predict(self, train, users, items, k):\n",
    "        items = self.item_enc.transform(items)\n",
    "        dd = train.loc[train.user.isin(users)]\n",
    "        dd['ci'] = self.item_enc.transform(dd.item)\n",
    "        dd['cu'] = self.user_enc.transform(dd.user)\n",
    "        g = dd.groupby('cu')\n",
    "        with Pool(cpu_count()) as p:\n",
    "            user_preds = p.starmap(\n",
    "                self.predict_for_user,\n",
    "                [(user, group, self.pred[user, :], items, k) for user, group in g],\n",
    "            )\n",
    "        df = pd.concat(user_preds)\n",
    "        df['item'] = self.item_enc.inverse_transform(df['item'])\n",
    "        df['user'] = self.user_enc.inverse_transform(df['user'])\n",
    "        return df\n",
    "\n",
    "    @staticmethod\n",
    "    def predict_for_user(user, group, pred, items, k):\n",
    "        watched = set(group['ci'])\n",
    "        candidates = [item for item in items if item not in watched]\n",
    "        pred = np.take(pred, candidates)\n",
    "        res = np.argpartition(pred, -k)[-k:]\n",
    "        r = pd.DataFrame(\n",
    "            {\n",
    "                \"user\": [user] * len(res),\n",
    "                \"item\": np.take(candidates, res),\n",
    "                \"score\": np.take(pred, res),\n",
    "            }\n",
    "        ).sort_values('score', ascending=False)\n",
    "        return r"
   ]
  },
  {
   "cell_type": "code",
   "execution_count": 9,
   "metadata": {},
   "outputs": [],
   "source": [
    "model = EASE()\n"
   ]
  },
  {
   "cell_type": "code",
   "execution_count": 10,
   "metadata": {},
   "outputs": [
    {
     "name": "stdout",
     "output_type": "stream",
     "text": [
      "0.1\n",
      "lambda =  0.1  loss =  0.1992878401360544\n",
      "0.2\n"
     ]
    }
   ],
   "source": [
    "best = 0\n",
    "for i in range(1,10):\n",
    "    print(i/10)\n",
    "    model.fit(train,i/10)\n",
    "    predict = model.predict(train,train['user'].unique(),train['item'].unique(),10)\n",
    "    predict = predict.drop('score',axis = 1)\n",
    "    loss = 0\n",
    "    for val,pre in zip(valid.groupby('user'),predict.groupby('user')):\n",
    "        #print(val[1]['item'])\n",
    "        #print(pre[1]['item'])\n",
    "        #print(val[1]['item'].isin(pre[1]['item']).sum())\n",
    "        loss += val[1]['item'].isin(pre[1]['item']).sum()\n",
    "\n",
    "    if loss != 0: \n",
    "        loss = loss / len(valid)\n",
    "    if best <loss:\n",
    "        best = loss\n",
    "        best_predict = predict\n",
    "    print(\"lambda = \", i/10, \" loss = \", loss)\n",
    "best_predict.to_csv('../output/ease.csv', index=False)\n"
   ]
  }
 ],
 "metadata": {
  "kernelspec": {
   "display_name": "base",
   "language": "python",
   "name": "python3"
  },
  "language_info": {
   "codemirror_mode": {
    "name": "ipython",
    "version": 3
   },
   "file_extension": ".py",
   "mimetype": "text/x-python",
   "name": "python",
   "nbconvert_exporter": "python",
   "pygments_lexer": "ipython3",
   "version": "3.8.5"
  },
  "orig_nbformat": 4,
  "vscode": {
   "interpreter": {
    "hash": "d4d1e4263499bec80672ea0156c357c1ee493ec2b1c70f0acce89fc37c4a6abe"
   }
  }
 },
 "nbformat": 4,
 "nbformat_minor": 2
}
